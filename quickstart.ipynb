{
 "cells": [
  {
   "cell_type": "markdown",
   "metadata": {},
   "source": [
    "## Importar la Librería de Numpy.\n",
    "np es una convencion para abreviar numpy"
   ]
  },
  {
   "cell_type": "code",
   "execution_count": 1,
   "metadata": {},
   "outputs": [],
   "source": [
    "import numpy as np"
   ]
  },
  {
   "cell_type": "markdown",
   "metadata": {},
   "source": [
    "Los datos contenidos en los arrays deben ser homogeneos, los arrays son más rapidos y consumen menos memmoria que las listas.\n"
   ]
  },
  {
   "cell_type": "markdown",
   "metadata": {},
   "source": [
    "Ejemplo:"
   ]
  },
  {
   "cell_type": "code",
   "execution_count": 2,
   "metadata": {},
   "outputs": [
    {
     "data": {
      "text/plain": [
       "array([1, 2, 3, 4, 5, 6])"
      ]
     },
     "execution_count": 2,
     "metadata": {},
     "output_type": "execute_result"
    }
   ],
   "source": [
    "a = np.array([1, 2, 3, 4, 5, 6])  # matriz de una fila\n",
    "a"
   ]
  },
  {
   "cell_type": "code",
   "execution_count": 3,
   "metadata": {},
   "outputs": [
    {
     "data": {
      "text/plain": [
       "array([[1, 2, 3],\n",
       "       [4, 5, 6],\n",
       "       [7, 8, 9]])"
      ]
     },
     "execution_count": 3,
     "metadata": {},
     "output_type": "execute_result"
    }
   ],
   "source": [
    "b = np.array([[1, 2, 3], [4, 5, 6], [7, 8, 9]])  # matriz de varias filas\n",
    "b\n"
   ]
  },
  {
   "cell_type": "markdown",
   "metadata": {},
   "source": [
    "El array es la estructura de datos central en Numpy y se le conoce como Numpy-array. Es una cuadricula de valores que contiene informacion sobre datos."
   ]
  },
  {
   "cell_type": "markdown",
   "metadata": {},
   "source": [
    "N-array significa array N dimensional, es decir una matriz de cualquier número de dimensiones.\n",
    "- 1D Vector o array unidimensional\n",
    "- 2D Matriz o array bidimensional\n",
    "- 3D o más Tensor\n"
   ]
  },
  {
   "cell_type": "markdown",
   "metadata": {},
   "source": [
    "En Numpy las dimensiones son llamadas ejes (axes, axis), el ejemplo siguiente es un array de 2 axes. la primera axis tiene una longitud de 2 y la segunda axis una longitud de 3"
   ]
  },
  {
   "cell_type": "code",
   "execution_count": 4,
   "metadata": {},
   "outputs": [
    {
     "data": {
      "text/plain": [
       "array([[1, 1, 1],\n",
       "       [2, 2, 2]])"
      ]
     },
     "execution_count": 4,
     "metadata": {},
     "output_type": "execute_result"
    }
   ],
   "source": [
    "sample_array_1 = np.array([[1,1,1], [2,2,2]])\n",
    "sample_array_1"
   ]
  },
  {
   "cell_type": "markdown",
   "metadata": {},
   "source": [
    "## Arrays Básicos"
   ]
  },
  {
   "cell_type": "markdown",
   "metadata": {},
   "source": [
    "- Array simple"
   ]
  },
  {
   "cell_type": "code",
   "execution_count": 5,
   "metadata": {},
   "outputs": [
    {
     "data": {
      "text/plain": [
       "array([1, 2, 3])"
      ]
     },
     "execution_count": 5,
     "metadata": {},
     "output_type": "execute_result"
    }
   ],
   "source": [
    "simple_array = np.array([1, 2, 3])\n",
    "simple_array"
   ]
  },
  {
   "cell_type": "markdown",
   "metadata": {},
   "source": [
    "- Array de Ceros"
   ]
  },
  {
   "cell_type": "code",
   "execution_count": 6,
   "metadata": {},
   "outputs": [
    {
     "data": {
      "text/plain": [
       "array([0., 0., 0., 0.])"
      ]
     },
     "execution_count": 6,
     "metadata": {},
     "output_type": "execute_result"
    }
   ],
   "source": [
    "# crea un array de 4 elementos (ceros)\n",
    "cero_array = np.zeros(4)\n",
    "cero_array"
   ]
  },
  {
   "cell_type": "markdown",
   "metadata": {},
   "source": [
    "- Array de unos"
   ]
  },
  {
   "cell_type": "code",
   "execution_count": 7,
   "metadata": {},
   "outputs": [
    {
     "data": {
      "text/plain": [
       "array([1., 1.])"
      ]
     },
     "execution_count": 7,
     "metadata": {},
     "output_type": "execute_result"
    }
   ],
   "source": [
    "# crea un array de dos elementos (unos)\n",
    "uno_array = np.ones(2)\n",
    "uno_array"
   ]
  },
  {
   "cell_type": "markdown",
   "metadata": {},
   "source": [
    "- Array Empty.\n"
   ]
  },
  {
   "cell_type": "markdown",
   "metadata": {},
   "source": [
    "empty crea un array vacío, que en realidad tiene elementos iniciales aleatorios. "
   ]
  },
  {
   "cell_type": "code",
   "execution_count": 8,
   "metadata": {},
   "outputs": [
    {
     "data": {
      "text/plain": [
       "array([1., 1.])"
      ]
     },
     "execution_count": 8,
     "metadata": {},
     "output_type": "execute_result"
    }
   ],
   "source": [
    "# crea un array con dos elementos aleatorios\n",
    "empty_array = np.empty(2)\n",
    "empty_array"
   ]
  },
  {
   "cell_type": "markdown",
   "metadata": {},
   "source": [
    "Crear un array a partir de un intervalo o range"
   ]
  },
  {
   "cell_type": "code",
   "execution_count": 9,
   "metadata": {},
   "outputs": [
    {
     "data": {
      "text/plain": [
       "array([0, 3, 6, 9])"
      ]
     },
     "execution_count": 9,
     "metadata": {},
     "output_type": "execute_result"
    }
   ],
   "source": [
    "range_array = np.arange(0, 12, 3)\n",
    "range_array"
   ]
  },
  {
   "cell_type": "markdown",
   "metadata": {},
   "source": [
    "Crear un array con valores espaciados linealmente"
   ]
  },
  {
   "cell_type": "code",
   "execution_count": 10,
   "metadata": {},
   "outputs": [
    {
     "data": {
      "text/plain": [
       "array([ 0. ,  2.5,  5. ,  7.5, 10. ])"
      ]
     },
     "execution_count": 10,
     "metadata": {},
     "output_type": "execute_result"
    }
   ],
   "source": [
    "# array de 5 elementos espaciados (10-0)/(5-1) = 2.5\n",
    "lineal_array = np.linspace(0, 10, num = 5)\n",
    "lineal_array\n"
   ]
  },
  {
   "cell_type": "markdown",
   "metadata": {},
   "source": [
    "## Concatenar y ordenar elementos"
   ]
  },
  {
   "cell_type": "markdown",
   "metadata": {},
   "source": [
    "### Ordenar"
   ]
  },
  {
   "cell_type": "code",
   "execution_count": 11,
   "metadata": {},
   "outputs": [
    {
     "data": {
      "text/plain": [
       "array([1, 2, 3, 4, 5])"
      ]
     },
     "execution_count": 11,
     "metadata": {},
     "output_type": "execute_result"
    }
   ],
   "source": [
    "# Ordenar np.sort()\n",
    "temp_array = np.array([2,5,3,1,4])\n",
    "np.sort(temp_array)"
   ]
  },
  {
   "cell_type": "markdown",
   "metadata": {},
   "source": [
    "### Concatenar"
   ]
  },
  {
   "cell_type": "code",
   "execution_count": 12,
   "metadata": {},
   "outputs": [
    {
     "data": {
      "text/plain": [
       "array([ 1,  2,  3, -7,  5, 11])"
      ]
     },
     "execution_count": 12,
     "metadata": {},
     "output_type": "execute_result"
    }
   ],
   "source": [
    "# concatenar arrays np.concatenate\n",
    "c1 = np.array([1, 2, 3])\n",
    "c2 = np.array([-7, 5, 11])\n",
    "np.concatenate((c1, c2))"
   ]
  },
  {
   "cell_type": "markdown",
   "metadata": {},
   "source": [
    "### Tamaño y forma de los arrays"
   ]
  },
  {
   "cell_type": "code",
   "execution_count": 13,
   "metadata": {},
   "outputs": [
    {
     "data": {
      "text/plain": [
       "array([[[0, 1, 2, 3],\n",
       "        [4, 5, 6, 7]],\n",
       "\n",
       "       [[0, 1, 2, 3],\n",
       "        [4, 5, 6, 7]],\n",
       "\n",
       "       [[0, 1, 2, 3],\n",
       "        [4, 5, 6, 7]]])"
      ]
     },
     "execution_count": 13,
     "metadata": {},
     "output_type": "execute_result"
    }
   ],
   "source": [
    "# arrays de 3 ejes (axes)\n",
    "sample_array_2 = np.array([\n",
    "    [[0,1,2,3],[4,5,6,7]],\n",
    "    [[0,1,2,3],[4,5,6,7]],\n",
    "    [[0,1,2,3],[4,5,6,7]]\n",
    "])\n",
    "sample_array_2\n"
   ]
  },
  {
   "cell_type": "markdown",
   "metadata": {},
   "source": [
    "#### Numero de ejes del array *sample_array.ndim*"
   ]
  },
  {
   "cell_type": "code",
   "execution_count": 14,
   "metadata": {},
   "outputs": [
    {
     "data": {
      "text/plain": [
       "3"
      ]
     },
     "execution_count": 14,
     "metadata": {},
     "output_type": "execute_result"
    }
   ],
   "source": [
    "# Numero de ejes del array, 3D=(filas, columnas, tubos)\n",
    "sample_array_2.ndim"
   ]
  },
  {
   "cell_type": "markdown",
   "metadata": {},
   "source": [
    "#### Numero total de elementos *sample_array.size*"
   ]
  },
  {
   "cell_type": "code",
   "execution_count": 15,
   "metadata": {},
   "outputs": [
    {
     "data": {
      "text/plain": [
       "24"
      ]
     },
     "execution_count": 15,
     "metadata": {},
     "output_type": "execute_result"
    }
   ],
   "source": [
    "# Numero total de elementos\n",
    "sample_array_2.size"
   ]
  },
  {
   "cell_type": "markdown",
   "metadata": {},
   "source": [
    "#### Tamaño del array *sample_array.shape*"
   ]
  },
  {
   "cell_type": "markdown",
   "metadata": {},
   "source": [
    "Un array con n filas y m columnas, la forma será (n,m). El numero de ejes se puede calcular con la longitud de la tupla de forma"
   ]
  },
  {
   "cell_type": "code",
   "execution_count": 16,
   "metadata": {},
   "outputs": [
    {
     "data": {
      "text/plain": [
       "(3, 2, 4)"
      ]
     },
     "execution_count": 16,
     "metadata": {},
     "output_type": "execute_result"
    }
   ],
   "source": [
    "# forma del array 2D(filas, columnas) 3D(filas, columnas, tubos)\n",
    "sample_array_2.shape"
   ]
  },
  {
   "cell_type": "markdown",
   "metadata": {},
   "source": [
    "####  *.dtype*"
   ]
  },
  {
   "cell_type": "code",
   "execution_count": 17,
   "metadata": {},
   "outputs": [
    {
     "data": {
      "text/plain": [
       "dtype('int32')"
      ]
     },
     "execution_count": 17,
     "metadata": {},
     "output_type": "execute_result"
    }
   ],
   "source": [
    "# retorna el tipo de elementos del array (int16, int32, float16)\n",
    "sample_array_2.dtype"
   ]
  },
  {
   "cell_type": "markdown",
   "metadata": {},
   "source": [
    "#### *.itemsize*"
   ]
  },
  {
   "cell_type": "code",
   "execution_count": 18,
   "metadata": {},
   "outputs": [
    {
     "data": {
      "text/plain": [
       "4"
      ]
     },
     "execution_count": 18,
     "metadata": {},
     "output_type": "execute_result"
    }
   ],
   "source": [
    "# tamaño en bytes de cada elemento del array\n",
    "sample_array_2.itemsize"
   ]
  },
  {
   "cell_type": "markdown",
   "metadata": {},
   "source": [
    "El tipo de array puede ser indicado al momento que se crea, ejemplo:"
   ]
  },
  {
   "cell_type": "code",
   "execution_count": 19,
   "metadata": {},
   "outputs": [
    {
     "data": {
      "text/plain": [
       "array([[1.+0.j, 2.+0.j],\n",
       "       [3.+0.j, 4.+0.j]])"
      ]
     },
     "execution_count": 19,
     "metadata": {},
     "output_type": "execute_result"
    }
   ],
   "source": [
    "sample_array_3 = np.array([[1, 2],[3, 4]], dtype=complex)\n",
    "sample_array_3"
   ]
  },
  {
   "cell_type": "markdown",
   "metadata": {},
   "source": [
    "### Operaciones Basicas"
   ]
  },
  {
   "cell_type": "markdown",
   "metadata": {},
   "source": [
    "#### Suma y resta"
   ]
  },
  {
   "cell_type": "code",
   "execution_count": 20,
   "metadata": {},
   "outputs": [
    {
     "data": {
      "text/plain": [
       "array([20, 29, 38, 47])"
      ]
     },
     "execution_count": 20,
     "metadata": {},
     "output_type": "execute_result"
    }
   ],
   "source": [
    "a = np.array([20,30,40,50])\n",
    "b = np.arange(4)\n",
    "c = a - b\n",
    "c"
   ]
  },
  {
   "cell_type": "markdown",
   "metadata": {},
   "source": [
    "#### Multiplicacion"
   ]
  },
  {
   "cell_type": "code",
   "execution_count": 21,
   "metadata": {},
   "outputs": [],
   "source": [
    "A = np.array([[1, 1], \n",
    "              [0, 1]])\n",
    "\n",
    "B = np.array([[2, 0],\n",
    "              [3, 4]])"
   ]
  },
  {
   "cell_type": "markdown",
   "metadata": {},
   "source": [
    "##### *Multiplicacion de los elementos*"
   ]
  },
  {
   "cell_type": "code",
   "execution_count": 22,
   "metadata": {},
   "outputs": [
    {
     "data": {
      "text/plain": [
       "array([[2, 0],\n",
       "       [0, 4]])"
      ]
     },
     "execution_count": 22,
     "metadata": {},
     "output_type": "execute_result"
    }
   ],
   "source": [
    "A * B"
   ]
  },
  {
   "cell_type": "markdown",
   "metadata": {},
   "source": [
    "##### *Producto Matricial*"
   ]
  },
  {
   "cell_type": "code",
   "execution_count": 23,
   "metadata": {},
   "outputs": [
    {
     "data": {
      "text/plain": [
       "array([[5, 4],\n",
       "       [3, 4]])"
      ]
     },
     "execution_count": 23,
     "metadata": {},
     "output_type": "execute_result"
    }
   ],
   "source": [
    "A @ B\n",
    "# o de esta forma:\n",
    "A.dot(B)"
   ]
  },
  {
   "cell_type": "markdown",
   "metadata": {},
   "source": [
    "#### Array de numeros aleatorios"
   ]
  },
  {
   "cell_type": "code",
   "execution_count": 24,
   "metadata": {},
   "outputs": [],
   "source": [
    "# creacion de un generador de numeros aleatorios\n",
    "rg = np.random.default_rng(1) \n",
    "\n",
    "a1 = np.ones((2, 3), dtype= int)\n",
    "b1= rg.random((2,3))\n",
    "\n"
   ]
  },
  {
   "cell_type": "markdown",
   "metadata": {},
   "source": [
    "#### Suma/Resta con los operador +=, -="
   ]
  },
  {
   "cell_type": "code",
   "execution_count": 25,
   "metadata": {},
   "outputs": [
    {
     "data": {
      "text/plain": [
       "array([[-0.48817838, -0.0495363 , -0.85584039],\n",
       "       [-0.05135055, -0.68816855, -0.57667355]])"
      ]
     },
     "execution_count": 25,
     "metadata": {},
     "output_type": "execute_result"
    }
   ],
   "source": [
    "# suma con los operador +=\n",
    "b1 -= a1\n",
    "b1"
   ]
  },
  {
   "cell_type": "markdown",
   "metadata": {},
   "source": [
    "#### sum(), max(), min(), floor(), sort()"
   ]
  },
  {
   "cell_type": "code",
   "execution_count": 26,
   "metadata": {},
   "outputs": [
    {
     "data": {
      "text/plain": [
       "array([[8., 4., 5.],\n",
       "       [0., 7., 5.],\n",
       "       [3., 7., 3.]])"
      ]
     },
     "execution_count": 26,
     "metadata": {},
     "output_type": "execute_result"
    }
   ],
   "source": [
    "# floor redondea hacia abajo\n",
    "sample_array_5 = np.floor(10 * rg.random((3,3)))\n",
    "sample_array_5"
   ]
  },
  {
   "cell_type": "code",
   "execution_count": 27,
   "metadata": {},
   "outputs": [
    {
     "data": {
      "text/plain": [
       "(42.0, array([11., 18., 13.]), array([17., 12., 13.]))"
      ]
     },
     "execution_count": 27,
     "metadata": {},
     "output_type": "execute_result"
    }
   ],
   "source": [
    "# sum() suma todos los elementos del array\n",
    "a = sample_array_5.sum()\n",
    "# suma de cada columna\n",
    "b = sample_array_5.sum(axis=0)\n",
    "# suma de cada fila\n",
    "c = sample_array_5.sum(axis=1)\n",
    "(a, b, c)"
   ]
  },
  {
   "cell_type": "code",
   "execution_count": 28,
   "metadata": {},
   "outputs": [
    {
     "name": "stdout",
     "output_type": "stream",
     "text": [
      "min:  0.0\n",
      "max:  8.0\n"
     ]
    }
   ],
   "source": [
    "# min() y max()\n",
    "print(\"min: \", sample_array_5.min())\n",
    "print(\"max: \", sample_array_5.max())"
   ]
  },
  {
   "cell_type": "code",
   "execution_count": 29,
   "metadata": {},
   "outputs": [
    {
     "name": "stdout",
     "output_type": "stream",
     "text": [
      "[[8. 4. 5.]\n",
      " [0. 7. 5.]\n",
      " [3. 7. 3.]] \n",
      "\n",
      "Ordenar por fila\n",
      "[[4. 5. 8.]\n",
      " [0. 5. 7.]\n",
      " [3. 3. 7.]] \n",
      "\n",
      "Ordenar por columnas\n",
      "[[0. 4. 3.]\n",
      " [3. 7. 5.]\n",
      " [8. 7. 5.]] \n",
      "\n",
      "[[4. 5. 8.]\n",
      " [0. 5. 7.]\n",
      " [3. 3. 7.]]\n"
     ]
    }
   ],
   "source": [
    "# Sort()\n",
    "print(sample_array_5, \"\\n\") # No sort array\n",
    "print(\"Ordenar por fila\")\n",
    "print((np.sort(sample_array_5)),\"\\n\") # sort array filas\n",
    "print(\"Ordenar por columnas\")\n",
    "print((np.sort(sample_array_5, axis=0)), \"\\n\") # sort array columnas\n",
    "# axis=0 columnas, axis=1  filas\n",
    "# se puede especificar el algoritmo de ordenamiento.\n",
    "print((np.sort(sample_array_5,kind=\"mergesort\")))"
   ]
  },
  {
   "cell_type": "markdown",
   "metadata": {},
   "source": [
    "#### *numpy.fromfunction()*"
   ]
  },
  {
   "cell_type": "code",
   "execution_count": 30,
   "metadata": {},
   "outputs": [
    {
     "data": {
      "text/plain": [
       "array([[ 0.,  1.,  2.,  3.],\n",
       "       [10., 11., 12., 13.],\n",
       "       [20., 21., 22., 23.],\n",
       "       [30., 31., 32., 33.]])"
      ]
     },
     "execution_count": 30,
     "metadata": {},
     "output_type": "execute_result"
    }
   ],
   "source": [
    "# aplica una funcion al array que se genera a partir \n",
    "# de las coordenadas de la dimension del array \n",
    "# f(x,y) se aplica sobre las coordenadas x,y \n",
    "# elemento a23 --> f(x,y)= x+y --> f(2,3) = 2+3 = 5\n",
    "array_from_f = np.fromfunction(lambda i, j: 10*i + j, (4,4), dtype=float)\n",
    "array_from_f"
   ]
  },
  {
   "cell_type": "markdown",
   "metadata": {},
   "source": [
    "### Matriz Transpuesta ***sample_array.T***"
   ]
  },
  {
   "cell_type": "code",
   "execution_count": 31,
   "metadata": {},
   "outputs": [
    {
     "data": {
      "text/plain": [
       "array([[ 0., 10., 20., 30.],\n",
       "       [ 1., 11., 21., 31.],\n",
       "       [ 2., 12., 22., 32.],\n",
       "       [ 3., 13., 23., 33.]])"
      ]
     },
     "execution_count": 31,
     "metadata": {},
     "output_type": "execute_result"
    }
   ],
   "source": [
    "array_from_f.T"
   ]
  },
  {
   "cell_type": "markdown",
   "metadata": {},
   "source": [
    "### Aplanar un array ***sample_array.ravel()***"
   ]
  },
  {
   "cell_type": "code",
   "execution_count": 32,
   "metadata": {},
   "outputs": [
    {
     "name": "stdout",
     "output_type": "stream",
     "text": [
      "[[4. 1. 4.]\n",
      " [2. 2. 7.]\n",
      " [2. 4. 9.]] \n",
      "\n",
      "[4. 1. 4. 2. 2. 7. 2. 4. 9.]\n"
     ]
    }
   ],
   "source": [
    "# .ravel() retorna una version Plana (1 eje 1D) de un array de 2 ejes o mas ejes\n",
    "sample_array_7 = np.floor(10*rg.random((3,3)))\n",
    "print(sample_array_7, \"\\n\")\n",
    "print(sample_array_7.ravel())"
   ]
  },
  {
   "cell_type": "markdown",
   "metadata": {},
   "source": [
    "### reshape() resize() *fijar/cambiar la dimension de un array*"
   ]
  },
  {
   "cell_type": "code",
   "execution_count": 33,
   "metadata": {},
   "outputs": [
    {
     "data": {
      "text/plain": [
       "array([0, 1, 2, 3, 4, 5])"
      ]
     },
     "execution_count": 33,
     "metadata": {},
     "output_type": "execute_result"
    }
   ],
   "source": [
    "sample_array_4 = np.arange(6)\n",
    "sample_array_4"
   ]
  },
  {
   "cell_type": "code",
   "execution_count": 125,
   "metadata": {},
   "outputs": [
    {
     "name": "stdout",
     "output_type": "stream",
     "text": [
      "original\n",
      " [0 1 2 3 4 5]\n",
      "reshape\n",
      " [[0 1]\n",
      " [2 3]\n",
      " [4 5]]\n",
      "original\n",
      " [0 1 2 3 4 5]\n",
      "resize\n",
      " [[0 1]\n",
      " [2 3]\n",
      " [4 5]]\n"
     ]
    }
   ],
   "source": [
    "sample_array_4 = np.arange(6)\n",
    "print(\"original\\n\", sample_array_4)\n",
    "# reshape retorna una matriz modificada, no cambia la matrix original\n",
    "# sample.array((-1,2)) ,indice -1, forma de manera automatica el array\n",
    "reshape_array = sample_array_4.reshape((3,2))\n",
    "print(\"reshape\\n\", reshape_array)\n",
    "print(\"original\\n\", sample_array_4)\n",
    "# resize retorna None, la matriz se modifica\n",
    "sample_array_4.resize((3,2))\n",
    "print(\"resize\\n\", sample_array_4)\n"
   ]
  },
  {
   "cell_type": "markdown",
   "metadata": {},
   "source": [
    "### Array diagonal ***numpy.eye()***"
   ]
  },
  {
   "cell_type": "markdown",
   "metadata": {},
   "source": [
    "eye() retorna una matriz 2D con los elementos de la diagonal iguales a 1 y el reto igual a cero."
   ]
  },
  {
   "cell_type": "code",
   "execution_count": 35,
   "metadata": {},
   "outputs": [
    {
     "data": {
      "text/plain": [
       "array([[1., 0., 0., 0.],\n",
       "       [0., 1., 0., 0.],\n",
       "       [0., 0., 1., 0.],\n",
       "       [0., 0., 0., 1.]])"
      ]
     },
     "execution_count": 35,
     "metadata": {},
     "output_type": "execute_result"
    }
   ],
   "source": [
    "eye_array = np.eye(4)\n",
    "eye_array"
   ]
  },
  {
   "cell_type": "code",
   "execution_count": 36,
   "metadata": {},
   "outputs": [
    {
     "data": {
      "text/plain": [
       "array([[0., 1., 0., 0.],\n",
       "       [0., 0., 1., 0.],\n",
       "       [0., 0., 0., 1.],\n",
       "       [0., 0., 0., 0.]])"
      ]
     },
     "execution_count": 36,
     "metadata": {},
     "output_type": "execute_result"
    }
   ],
   "source": [
    "# se puede cambiar a una diagonal superior o \n",
    "# inferior con el parametro k\n",
    "# k = 0 diagonal central\n",
    "# k > 0 diagonales superiores\n",
    "# k < 0 diagonales inferiores\n",
    "\n",
    "eye_array = np.eye(4, k=1)\n",
    "eye_array"
   ]
  },
  {
   "cell_type": "code",
   "execution_count": 37,
   "metadata": {},
   "outputs": [
    {
     "data": {
      "text/plain": [
       "array([[0., 0., 0., 0.],\n",
       "       [1., 0., 0., 0.],\n",
       "       [0., 1., 0., 0.],\n",
       "       [0., 0., 1., 0.]])"
      ]
     },
     "execution_count": 37,
     "metadata": {},
     "output_type": "execute_result"
    }
   ],
   "source": [
    "eye_array = np.eye(4, k=-1)\n",
    "eye_array"
   ]
  },
  {
   "cell_type": "markdown",
   "metadata": {},
   "source": [
    "### Seleccionar, Fitrar y cambiar elementos"
   ]
  },
  {
   "cell_type": "code",
   "execution_count": 38,
   "metadata": {},
   "outputs": [
    {
     "data": {
      "text/plain": [
       "array([[ 1,  2,  5],\n",
       "       [ 7,  1, -3],\n",
       "       [ 9,  0,  2]])"
      ]
     },
     "execution_count": 38,
     "metadata": {},
     "output_type": "execute_result"
    }
   ],
   "source": [
    "sample_array_6 = np.array([1, 2, 5, 7, 1, -3, 9, 0, 2]).reshape(3,3)\n",
    "sample_array_6"
   ]
  },
  {
   "cell_type": "markdown",
   "metadata": {},
   "source": [
    "#### filtra y cambiar elementos"
   ]
  },
  {
   "cell_type": "code",
   "execution_count": 39,
   "metadata": {},
   "outputs": [],
   "source": [
    "sample_array_6[sample_array_6 == 2] = 13\n",
    "sample_array_6[sample_array_6 <= 1] = 0"
   ]
  },
  {
   "cell_type": "markdown",
   "metadata": {},
   "source": [
    "#### Selección"
   ]
  },
  {
   "cell_type": "code",
   "execution_count": 40,
   "metadata": {},
   "outputs": [
    {
     "data": {
      "text/plain": [
       "array([[ 0, 13,  5],\n",
       "       [ 7,  0,  0],\n",
       "       [ 9,  0, 13]])"
      ]
     },
     "execution_count": 40,
     "metadata": {},
     "output_type": "execute_result"
    }
   ],
   "source": [
    "sample_array_6"
   ]
  },
  {
   "cell_type": "code",
   "execution_count": 41,
   "metadata": {},
   "outputs": [
    {
     "data": {
      "text/plain": [
       "array([[ 7,  0,  0],\n",
       "       [ 9,  0, 13]])"
      ]
     },
     "execution_count": 41,
     "metadata": {},
     "output_type": "execute_result"
    }
   ],
   "source": [
    "# selecion de los elementos a partir de la fila 1\n",
    "sample_array_6[1:] "
   ]
  },
  {
   "cell_type": "code",
   "execution_count": 42,
   "metadata": {},
   "outputs": [
    {
     "data": {
      "text/plain": [
       "array([ 5,  0, 13])"
      ]
     },
     "execution_count": 42,
     "metadata": {},
     "output_type": "execute_result"
    }
   ],
   "source": [
    "sample_array_6[:,2] # selecion de los elemetos a partir de la columna 2"
   ]
  },
  {
   "cell_type": "markdown",
   "metadata": {},
   "source": [
    "#### Apilamiento de arrays"
   ]
  },
  {
   "cell_type": "code",
   "execution_count": 117,
   "metadata": {},
   "outputs": [
    {
     "name": "stdout",
     "output_type": "stream",
     "text": [
      "[[4. 2.]\n",
      " [9. 3.]] \n",
      "\n",
      "[[2. 4.]\n",
      " [7. 7.]] \n",
      "\n",
      "[[4. 2.]\n",
      " [9. 3.]\n",
      " [2. 4.]\n",
      " [7. 7.]] \n",
      "\n",
      "[[4. 2. 2. 4.]\n",
      " [9. 3. 7. 7.]] \n",
      "\n"
     ]
    }
   ],
   "source": [
    "a = np.floor(10 *rg.random((2,2)))\n",
    "b = np.floor(10 *rg.random((2,2)))\n",
    "print(a, \"\\n\")\n",
    "print(b, \"\\n\")\n",
    "\n",
    "# apilamiento vertical\n",
    "print(np.vstack((a, b)), \"\\n\")\n",
    "\n",
    "# apilamiento horizontal\n",
    "print(np.hstack((a,b)),\"\\n\")"
   ]
  },
  {
   "cell_type": "markdown",
   "metadata": {},
   "source": [
    "#### Incrementar la dimension de un array ***newaxis*** "
   ]
  },
  {
   "cell_type": "code",
   "execution_count": 44,
   "metadata": {},
   "outputs": [
    {
     "name": "stdout",
     "output_type": "stream",
     "text": [
      "1 [0 1 2]\n",
      "2 [[0 1 2]]\n"
     ]
    }
   ],
   "source": [
    "from numpy import newaxis\n",
    "a = np.arange(3)\n",
    "print(a.ndim, a)\n",
    "print( a[newaxis,:].ndim, a[newaxis,:])"
   ]
  },
  {
   "cell_type": "markdown",
   "metadata": {},
   "source": [
    "#### Copiar arrays"
   ]
  },
  {
   "cell_type": "code",
   "execution_count": 45,
   "metadata": {},
   "outputs": [
    {
     "name": "stdout",
     "output_type": "stream",
     "text": [
      "[[6. 7. 6.]\n",
      " [9. 0. 5.]\n",
      " [4. 0. 6.]]\n",
      "a is b True\n",
      "id(a):  139646416 id(b):  139646416\n",
      "a is c  False\n",
      "id(a):  139646416 id(c):  139646608\n",
      "a\n",
      " [[-7. -7. -7.]\n",
      " [ 9.  0.  5.]\n",
      " [ 4.  0.  6.]]\n",
      "c\n",
      " [[-7. -7. -7.]\n",
      " [ 9.  0.  5.]\n",
      " [ 4.  0.  6.]]\n",
      "False\n",
      "id(a):  139646416 id(d):  139646896\n",
      "[[-7. -7. -7.]\n",
      " [ 9.  0.  5.]\n",
      " [ 4.  0.  6.]]\n"
     ]
    }
   ],
   "source": [
    "a = np.floor(10 * rg.random((3,3)))\n",
    "b = a # a y b son el mismo objeto, tienen el mismo identificador\n",
    "print(a)\n",
    "print(\"a is b\", a is b)\n",
    "print(\"id(a): \", id(a), \"id(b): \",id(b))\n",
    "\n",
    "# copiar con view\n",
    "\n",
    "# a y c tienen la misma data pero son arrays diferentes\n",
    "# cambios en el array original afectan el array view\n",
    "c = a.view() \n",
    "print(\"a is c \", a is c) \n",
    "print(\"id(a): \", id(a), \"id(c): \",id(c))\n",
    "\n",
    "a[0]= -7\n",
    "print(\"a\\n\", a)\n",
    "print(\"c\\n\", c)\n",
    "\n",
    "# copiar con copy\n",
    "# retorna un array diferente el cual no se ve afectado por cambios\n",
    "# al array original\n",
    "d =a.copy()\n",
    "print(a is d) \n",
    "print(\"id(a): \", id(a), \"id(d): \",id(d))\n",
    "print(d)"
   ]
  },
  {
   "cell_type": "markdown",
   "metadata": {},
   "source": [
    "#### Dividir un array en arrays más pequeños"
   ]
  },
  {
   "cell_type": "code",
   "execution_count": 73,
   "metadata": {},
   "outputs": [
    {
     "name": "stdout",
     "output_type": "stream",
     "text": [
      "[[7. 2. 2. 9. 3. 2. 7. 1. 4. 3. 5. 6.]\n",
      " [6. 4. 8. 8. 9. 4. 7. 4. 2. 6. 9. 8.]] \n",
      "\n",
      "split horizontal\n",
      "\n",
      "[array([[7., 2., 2., 9.],\n",
      "       [6., 4., 8., 8.]]), array([[3., 2., 7., 1.],\n",
      "       [9., 4., 7., 4.]]), array([[4., 3., 5., 6.],\n",
      "       [2., 6., 9., 8.]])]\n",
      "\n",
      "split vertical\n",
      " [array([[7., 2., 2., 9., 3., 2., 7., 1., 4., 3., 5., 6.]]), array([[6., 4., 8., 8., 9., 4., 7., 4., 2., 6., 9., 8.]])]\n"
     ]
    }
   ],
   "source": [
    "# split horizontal (se especifica es el numero de diviciones)\n",
    "a = np.floor(10 * rg.random((2,12)))\n",
    "print(a, \"\\n\")\n",
    "print(\"split horizontal\\n\")\n",
    "print(np.hsplit(a, 3))\n",
    "print()\n",
    "# split vertical\n",
    "print(\"split vertical\\n\", np.vsplit(a, 2))"
   ]
  },
  {
   "cell_type": "markdown",
   "metadata": {},
   "source": [
    "### Indexación Avanzada"
   ]
  },
  {
   "cell_type": "code",
   "execution_count": 90,
   "metadata": {},
   "outputs": [
    {
     "name": "stdout",
     "output_type": "stream",
     "text": [
      "[ 1  4  9 16 25 36 49 64]\n",
      "[ 4  4 16 64 36]\n",
      "[[ 1  9]\n",
      " [64 16]] \n",
      "\n",
      "[[0. 0. 3. 9.]\n",
      " [7. 3. 8. 3.]\n",
      " [3. 1. 9. 8.]] \n",
      "\n"
     ]
    },
    {
     "data": {
      "text/plain": [
       "array([[0., 0.],\n",
       "       [8., 9.]])"
      ]
     },
     "execution_count": 90,
     "metadata": {},
     "output_type": "execute_result"
    }
   ],
   "source": [
    "a = np.arange(1,9)**2\n",
    "print(a)\n",
    "my_index = np.array([1,1,3,7,5])\n",
    "print(a[my_index]) # retorna un array con los de los indices indicados\n",
    "\n",
    "my_index_2 = np.array([[0,2],[7,3]]) # retorna un array (2x2)  de los index indicados\n",
    "print(a[my_index_2],\"\\n\")\n",
    "\n",
    "# con un index para cada dimension\n",
    "b = np.floor(10 *rg.random((3,4)))\n",
    "print(b, \"\\n\")\n",
    "i = np.array([[0,0],[2,2]])\n",
    "j = np.array([[0,1],[3,2]])\n",
    "b[i,j]\n",
    "\n"
   ]
  },
  {
   "cell_type": "code",
   "execution_count": 94,
   "metadata": {},
   "outputs": [
    {
     "data": {
      "text/plain": [
       "range(0, 3)"
      ]
     },
     "execution_count": 94,
     "metadata": {},
     "output_type": "execute_result"
    }
   ],
   "source": [
    "xc = np.array([[1,2,3],[4,5,6],[7,8,9]])\n",
    "range(xc.shape[1])"
   ]
  },
  {
   "cell_type": "markdown",
   "metadata": {},
   "source": [
    "#### Index con array booleanos"
   ]
  },
  {
   "cell_type": "code",
   "execution_count": 104,
   "metadata": {},
   "outputs": [
    {
     "name": "stdout",
     "output_type": "stream",
     "text": [
      "[[ 0  1  2  3]\n",
      " [ 4  5  6  7]\n",
      " [ 8  9 10 11]]\n",
      "[[False False False False]\n",
      " [False  True  True  True]\n",
      " [ True  True  True  True]]\n",
      "[ 5  6  7  8  9 10 11]\n",
      "[[0 1 2 3]\n",
      " [4 0 0 0]\n",
      " [0 0 0 0]]\n"
     ]
    }
   ],
   "source": [
    "s = np.arange(12).reshape(3, 4)\n",
    "print(s)\n",
    "t = s > 4\n",
    "print(t)\n",
    "print(s[t])\n",
    "s[t]= 0\n",
    "print(s)\n"
   ]
  },
  {
   "cell_type": "code",
   "execution_count": 106,
   "metadata": {},
   "outputs": [
    {
     "data": {
      "text/plain": [
       "<matplotlib.image.AxesImage at 0xe8d8040>"
      ]
     },
     "execution_count": 106,
     "metadata": {},
     "output_type": "execute_result"
    },
    {
     "data": {
      "image/png": "[encoded data removed]",
      "text/plain": [
       "<Figure size 432x288 with 1 Axes>"
      ]
     },
     "metadata": {
      "needs_background": "light"
     },
     "output_type": "display_data"
    }
   ],
   "source": [
    "import matplotlib.pyplot as plt\n",
    "def mandelbrot(h, w, maxit=20, r=2):\n",
    "    # retorna una imagen de un fractal mandelbrot  de tamaño (h,w).\n",
    "    x = np.linspace(-2.5, 1.5, 4*h+1)\n",
    "    y = np.linspace(-1.5,1.5, 3*w+1)\n",
    "    A, B = np.meshgrid(x,y)\n",
    "    C = A + B*1j\n",
    "    z=np.zeros_like(C)\n",
    "    divtime=  maxit + np.zeros(z.shape, dtype=int)\n",
    "\n",
    "    for i in range(maxit):\n",
    "        z = z**2 + C\n",
    "        diverge= abs(z) > r\n",
    "        div_now = diverge & (divtime == maxit)\n",
    "        divtime[div_now]=i\n",
    "        z[diverge] = r\n",
    "    \n",
    "    return divtime\n",
    "\n",
    "plt.clf()\n",
    "plt.imshow(mandelbrot(400,400))\n"
   ]
  },
  {
   "cell_type": "code",
   "execution_count": 116,
   "metadata": {},
   "outputs": [
    {
     "data": {
      "text/plain": [
       "array([[1, 5],\n",
       "       [1, 6],\n",
       "       [1, 7],\n",
       "       [1, 8],\n",
       "       [2, 5],\n",
       "       [2, 6],\n",
       "       [2, 7],\n",
       "       [2, 8],\n",
       "       [3, 5],\n",
       "       [3, 6],\n",
       "       [3, 7],\n",
       "       [3, 8],\n",
       "       [4, 5],\n",
       "       [4, 6],\n",
       "       [4, 7],\n",
       "       [4, 8]])"
      ]
     },
     "execution_count": 116,
     "metadata": {},
     "output_type": "execute_result"
    }
   ],
   "source": [
    "# array C con elementos (a,b) provenientes de los arrays A, B respectivamente\n",
    "A = np.array([1, 2, 3, 4])\n",
    "B = np.array([5, 6, 7, 8])\n",
    "C = np.array([(a,b) for a in A for b in B])\n",
    "C"
   ]
  },
  {
   "cell_type": "markdown",
   "metadata": {},
   "source": [
    "### Histograma en Numpy"
   ]
  },
  {
   "cell_type": "code",
   "execution_count": 128,
   "metadata": {},
   "outputs": [
    {
     "data": {
      "text/plain": [
       "(array([0.00277566, 0.        , 0.00138783, 0.00277566, 0.00693915,\n",
       "        0.00555132, 0.02220527, 0.02914441, 0.05828883, 0.07771843,\n",
       "        0.09298455, 0.14572206, 0.13878292, 0.21233786, 0.28034149,\n",
       "        0.32475203, 0.38026519, 0.4899037 , 0.5329264 , 0.57178562,\n",
       "        0.67170932, 0.71889551, 0.70918071, 0.80494092, 0.80910441,\n",
       "        0.81743138, 0.80355309, 0.7327738 , 0.69113893, 0.68697544,\n",
       "        0.54958035, 0.52043594, 0.41634875, 0.33446683, 0.26229971,\n",
       "        0.21511352, 0.19707174, 0.15266121, 0.11657765, 0.08188192,\n",
       "        0.07355495, 0.04718619, 0.03608356, 0.02081744, 0.0097148 ,\n",
       "        0.00555132, 0.00832698, 0.00277566, 0.00138783, 0.00416349]),\n",
       " array([0.20947621, 0.28153119, 0.35358616, 0.42564114, 0.49769612,\n",
       "        0.5697511 , 0.64180607, 0.71386105, 0.78591603, 0.85797101,\n",
       "        0.93002598, 1.00208096, 1.07413594, 1.14619092, 1.2182459 ,\n",
       "        1.29030087, 1.36235585, 1.43441083, 1.50646581, 1.57852078,\n",
       "        1.65057576, 1.72263074, 1.79468572, 1.86674069, 1.93879567,\n",
       "        2.01085065, 2.08290563, 2.1549606 , 2.22701558, 2.29907056,\n",
       "        2.37112554, 2.44318051, 2.51523549, 2.58729047, 2.65934545,\n",
       "        2.73140042, 2.8034554 , 2.87551038, 2.94756536, 3.01962033,\n",
       "        3.09167531, 3.16373029, 3.23578527, 3.30784024, 3.37989522,\n",
       "        3.4519502 , 3.52400518, 3.59606015, 3.66811513, 3.74017011,\n",
       "        3.81222509]),\n",
       " <BarContainer object of 50 artists>)"
      ]
     },
     "execution_count": 128,
     "metadata": {},
     "output_type": "execute_result"
    },
    {
     "data": {
      "image/png": "[encoded data removed]",
      "text/plain": [
       "<Figure size 432x288 with 1 Axes>"
      ]
     },
     "metadata": {
      "needs_background": "light"
     },
     "output_type": "display_data"
    }
   ],
   "source": [
    "# import numpy as np\n",
    "# rg = np.random.default_rng(1)\n",
    "#import matplotlib.pyplot as plt\n",
    "\n",
    "# crear un vector con 10000 desviaciones normales con varianza 0.5^2 y media 2\n",
    "mu, sigma = 2, 0.5\n",
    "v = rg.normal(mu, sigma, 10000)\n",
    "# graficar un histograma normalizado con 50 contenedores\n",
    "plt.hist(v,bins=50, density=True) # version matplotlib \n",
    "\n"
   ]
  },
  {
   "cell_type": "code",
   "execution_count": 130,
   "metadata": {},
   "outputs": [
    {
     "data": {
      "text/plain": [
       "[<matplotlib.lines.Line2D at 0xf339310>]"
      ]
     },
     "execution_count": 130,
     "metadata": {},
     "output_type": "execute_result"
    },
    {
     "data": {
      "image/png": "[encoded data removed]",
      "text/plain": [
       "<Figure size 432x288 with 1 Axes>"
      ]
     },
     "metadata": {
      "needs_background": "light"
     },
     "output_type": "display_data"
    }
   ],
   "source": [
    "# histograma calculado con numpy y luego graficado\n",
    "(n, bins)= np.histogram(v, bins=50, density=True) # calculo numpy, no grafica\n",
    "plt.plot(.5 * (bins[1:] + bins[:-1]), n)"
   ]
  }
 ],
 "metadata": {
  "kernelspec": {
   "display_name": "Python 3.8.7 64-bit",
   "language": "python",
   "name": "python3"
  },
  "language_info": {
   "codemirror_mode": {
    "name": "ipython",
    "version": 3
   },
   "file_extension": ".py",
   "mimetype": "text/x-python",
   "name": "python",
   "nbconvert_exporter": "python",
   "pygments_lexer": "ipython3",
   "version": "3.8.7"
  },
  "orig_nbformat": 4,
  "vscode": {
   "interpreter": {
    "hash": "78f551956465f27d377602a8bc30b2059c302125734c844a71d48236d22f28da"
   }
  }
 },
 "nbformat": 4,
 "nbformat_minor": 2
}
