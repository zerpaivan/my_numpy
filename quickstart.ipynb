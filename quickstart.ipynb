{
 "cells": [
  {
   "cell_type": "markdown",
   "metadata": {},
   "source": [
    "## Importar la Librería de Numpy.\n",
    "np es una convencion para abreviar numpy"
   ]
  },
  {
   "cell_type": "code",
   "execution_count": 77,
   "metadata": {},
   "outputs": [],
   "source": [
    "import numpy as np"
   ]
  },
  {
   "cell_type": "markdown",
   "metadata": {},
   "source": [
    "Los datos contenidos en los arrays deben ser homogeneos, los arrays son más rapidos y consumen menos memmoria que las listas.\n"
   ]
  },
  {
   "cell_type": "markdown",
   "metadata": {},
   "source": [
    "Ejemplo:"
   ]
  },
  {
   "cell_type": "code",
   "execution_count": 78,
   "metadata": {},
   "outputs": [
    {
     "data": {
      "text/plain": [
       "array([1, 2, 3, 4, 5, 6])"
      ]
     },
     "execution_count": 78,
     "metadata": {},
     "output_type": "execute_result"
    }
   ],
   "source": [
    "a = np.array([1, 2, 3, 4, 5, 6])  # matriz de una fila\n",
    "a"
   ]
  },
  {
   "cell_type": "code",
   "execution_count": 79,
   "metadata": {},
   "outputs": [
    {
     "data": {
      "text/plain": [
       "array([[1, 2, 3],\n",
       "       [4, 5, 6],\n",
       "       [7, 8, 9]])"
      ]
     },
     "execution_count": 79,
     "metadata": {},
     "output_type": "execute_result"
    }
   ],
   "source": [
    "b = np.array([[1, 2, 3], [4, 5, 6], [7, 8, 9]])  # matriz de varias filas\n",
    "b\n"
   ]
  },
  {
   "cell_type": "markdown",
   "metadata": {},
   "source": [
    "El array es la estructura de datos central en Numpy y se le conoce como Numpy-array. Es una cuadricula de valores que contiene informacion sobre datos."
   ]
  },
  {
   "cell_type": "markdown",
   "metadata": {},
   "source": [
    "N-array significa array N dimensional, es decir una matriz de cualquier número de dimensiones.\n",
    "- 1D Vector o array unidimensional\n",
    "- 2D Matriz o array bidimensional\n",
    "- 3D o más Tensor\n"
   ]
  },
  {
   "cell_type": "markdown",
   "metadata": {},
   "source": [
    "En Numpy las dimensiones son llamadas ejes (axes, axis), el ejemplo siguiente es un array de 2 axes. la primera axis tiene una longitud de 2 y la segunda axis una longitud de 3"
   ]
  },
  {
   "cell_type": "code",
   "execution_count": 80,
   "metadata": {},
   "outputs": [
    {
     "data": {
      "text/plain": [
       "array([[1, 1, 1],\n",
       "       [2, 2, 2]])"
      ]
     },
     "execution_count": 80,
     "metadata": {},
     "output_type": "execute_result"
    }
   ],
   "source": [
    "sample_array_1 = np.array([[1,1,1], [2,2,2]])\n",
    "sample_array_1"
   ]
  },
  {
   "cell_type": "markdown",
   "metadata": {},
   "source": [
    "## Arrays Básicos"
   ]
  },
  {
   "cell_type": "markdown",
   "metadata": {},
   "source": [
    "- Array simple"
   ]
  },
  {
   "cell_type": "code",
   "execution_count": 81,
   "metadata": {},
   "outputs": [
    {
     "data": {
      "text/plain": [
       "array([1, 2, 3])"
      ]
     },
     "execution_count": 81,
     "metadata": {},
     "output_type": "execute_result"
    }
   ],
   "source": [
    "simple_array = np.array([1, 2, 3])\n",
    "simple_array"
   ]
  },
  {
   "cell_type": "markdown",
   "metadata": {},
   "source": [
    "- Array de Ceros"
   ]
  },
  {
   "cell_type": "code",
   "execution_count": 82,
   "metadata": {},
   "outputs": [
    {
     "data": {
      "text/plain": [
       "array([0., 0., 0., 0.])"
      ]
     },
     "execution_count": 82,
     "metadata": {},
     "output_type": "execute_result"
    }
   ],
   "source": [
    "# crea un array de 4 elementos (ceros)\n",
    "cero_array = np.zeros(4)\n",
    "cero_array"
   ]
  },
  {
   "cell_type": "markdown",
   "metadata": {},
   "source": [
    "- Array de unos"
   ]
  },
  {
   "cell_type": "code",
   "execution_count": 83,
   "metadata": {},
   "outputs": [
    {
     "data": {
      "text/plain": [
       "array([1., 1.])"
      ]
     },
     "execution_count": 83,
     "metadata": {},
     "output_type": "execute_result"
    }
   ],
   "source": [
    "# crea un array de dos elementos (unos)\n",
    "uno_array = np.ones(2)\n",
    "uno_array"
   ]
  },
  {
   "cell_type": "markdown",
   "metadata": {},
   "source": [
    "- Array Empty.\n"
   ]
  },
  {
   "cell_type": "markdown",
   "metadata": {},
   "source": [
    "empty crea un array vacío, que en realidad tiene elementos iniciales aleatorios. "
   ]
  },
  {
   "cell_type": "code",
   "execution_count": 84,
   "metadata": {},
   "outputs": [
    {
     "data": {
      "text/plain": [
       "array([1., 1.])"
      ]
     },
     "execution_count": 84,
     "metadata": {},
     "output_type": "execute_result"
    }
   ],
   "source": [
    "# crea un array con dos elementos aleatorios\n",
    "empty_array = np.empty(2)\n",
    "empty_array"
   ]
  },
  {
   "cell_type": "markdown",
   "metadata": {},
   "source": [
    "Crear un array a partir de un intervalo o range"
   ]
  },
  {
   "cell_type": "code",
   "execution_count": 85,
   "metadata": {},
   "outputs": [
    {
     "data": {
      "text/plain": [
       "array([0, 3, 6, 9])"
      ]
     },
     "execution_count": 85,
     "metadata": {},
     "output_type": "execute_result"
    }
   ],
   "source": [
    "range_array = np.arange(0, 12, 3)\n",
    "range_array"
   ]
  },
  {
   "cell_type": "markdown",
   "metadata": {},
   "source": [
    "Crear un array con valores espaciados linealmente"
   ]
  },
  {
   "cell_type": "code",
   "execution_count": 86,
   "metadata": {},
   "outputs": [
    {
     "data": {
      "text/plain": [
       "array([ 0. ,  2.5,  5. ,  7.5, 10. ])"
      ]
     },
     "execution_count": 86,
     "metadata": {},
     "output_type": "execute_result"
    }
   ],
   "source": [
    "# array de 5 elementos espaciados (10-0)/(5-1) = 2.5\n",
    "lineal_array = np.linspace(0, 10, num = 5)\n",
    "lineal_array\n"
   ]
  },
  {
   "cell_type": "markdown",
   "metadata": {},
   "source": [
    "## Concatenar y ordenar elementos"
   ]
  },
  {
   "cell_type": "markdown",
   "metadata": {},
   "source": [
    "### Ordenar"
   ]
  },
  {
   "cell_type": "code",
   "execution_count": 87,
   "metadata": {},
   "outputs": [
    {
     "data": {
      "text/plain": [
       "array([1, 2, 3, 4, 5])"
      ]
     },
     "execution_count": 87,
     "metadata": {},
     "output_type": "execute_result"
    }
   ],
   "source": [
    "# Ordenar np.sort()\n",
    "temp_array = np.array([2,5,3,1,4])\n",
    "np.sort(temp_array)"
   ]
  },
  {
   "cell_type": "markdown",
   "metadata": {},
   "source": [
    "### Concatenar"
   ]
  },
  {
   "cell_type": "code",
   "execution_count": 88,
   "metadata": {},
   "outputs": [
    {
     "data": {
      "text/plain": [
       "array([ 1,  2,  3, -7,  5, 11])"
      ]
     },
     "execution_count": 88,
     "metadata": {},
     "output_type": "execute_result"
    }
   ],
   "source": [
    "# concatenar arrays np.concatenate\n",
    "c1 = np.array([1, 2, 3])\n",
    "c2 = np.array([-7, 5, 11])\n",
    "np.concatenate((c1, c2))"
   ]
  },
  {
   "cell_type": "markdown",
   "metadata": {},
   "source": [
    "### Tamaño y forma de los arrays"
   ]
  },
  {
   "cell_type": "code",
   "execution_count": 89,
   "metadata": {},
   "outputs": [
    {
     "data": {
      "text/plain": [
       "array([[[0, 1, 2, 3],\n",
       "        [4, 5, 6, 7]],\n",
       "\n",
       "       [[0, 1, 2, 3],\n",
       "        [4, 5, 6, 7]],\n",
       "\n",
       "       [[0, 1, 2, 3],\n",
       "        [4, 5, 6, 7]]])"
      ]
     },
     "execution_count": 89,
     "metadata": {},
     "output_type": "execute_result"
    }
   ],
   "source": [
    "# arrays de 3 ejes (axes)\n",
    "sample_array_2 = np.array([\n",
    "    [[0,1,2,3],[4,5,6,7]],\n",
    "    [[0,1,2,3],[4,5,6,7]],\n",
    "    [[0,1,2,3],[4,5,6,7]]\n",
    "])\n",
    "sample_array_2\n"
   ]
  },
  {
   "cell_type": "markdown",
   "metadata": {},
   "source": [
    "#### Numero de ejes del array *sample_array.ndim*"
   ]
  },
  {
   "cell_type": "code",
   "execution_count": 90,
   "metadata": {},
   "outputs": [
    {
     "data": {
      "text/plain": [
       "3"
      ]
     },
     "execution_count": 90,
     "metadata": {},
     "output_type": "execute_result"
    }
   ],
   "source": [
    "# Numero de ejes del array, 3D=(filas, columnas, tubos)\n",
    "sample_array_2.ndim"
   ]
  },
  {
   "cell_type": "markdown",
   "metadata": {},
   "source": [
    "#### Numero total de elementos *sample_array.size*"
   ]
  },
  {
   "cell_type": "code",
   "execution_count": 91,
   "metadata": {},
   "outputs": [
    {
     "data": {
      "text/plain": [
       "24"
      ]
     },
     "execution_count": 91,
     "metadata": {},
     "output_type": "execute_result"
    }
   ],
   "source": [
    "# Numero total de elementos\n",
    "sample_array_2.size"
   ]
  },
  {
   "cell_type": "markdown",
   "metadata": {},
   "source": [
    "#### Tamaño del array *sample_array.shape*"
   ]
  },
  {
   "cell_type": "markdown",
   "metadata": {},
   "source": [
    "Un array con n filas y m columnas, la forma será (n,m). El numero de ejes se puede calcular con la longitud de la tupla de forma"
   ]
  },
  {
   "cell_type": "code",
   "execution_count": 92,
   "metadata": {},
   "outputs": [
    {
     "data": {
      "text/plain": [
       "(3, 2, 4)"
      ]
     },
     "execution_count": 92,
     "metadata": {},
     "output_type": "execute_result"
    }
   ],
   "source": [
    "# forma del array 2D(filas, columnas) 3D(filas, columnas, tubos)\n",
    "sample_array_2.shape"
   ]
  },
  {
   "cell_type": "markdown",
   "metadata": {},
   "source": [
    "####  *.dtype*"
   ]
  },
  {
   "cell_type": "code",
   "execution_count": 93,
   "metadata": {},
   "outputs": [
    {
     "data": {
      "text/plain": [
       "dtype('int32')"
      ]
     },
     "execution_count": 93,
     "metadata": {},
     "output_type": "execute_result"
    }
   ],
   "source": [
    "# retorna el tipo de elementos del array (int16, int32, float16)\n",
    "sample_array_2.dtype"
   ]
  },
  {
   "cell_type": "markdown",
   "metadata": {},
   "source": [
    "#### *.itemsize*"
   ]
  },
  {
   "cell_type": "code",
   "execution_count": 94,
   "metadata": {},
   "outputs": [
    {
     "data": {
      "text/plain": [
       "4"
      ]
     },
     "execution_count": 94,
     "metadata": {},
     "output_type": "execute_result"
    }
   ],
   "source": [
    "# tamaño en bytes de cada elemento del array\n",
    "sample_array_2.itemsize"
   ]
  },
  {
   "cell_type": "markdown",
   "metadata": {},
   "source": [
    "El tipo de array puede ser indicado al momento que se crea, ejemplo:"
   ]
  },
  {
   "cell_type": "code",
   "execution_count": 95,
   "metadata": {},
   "outputs": [
    {
     "data": {
      "text/plain": [
       "array([[1.+0.j, 2.+0.j],\n",
       "       [3.+0.j, 4.+0.j]])"
      ]
     },
     "execution_count": 95,
     "metadata": {},
     "output_type": "execute_result"
    }
   ],
   "source": [
    "sample_array_3 = np.array([[1, 2],[3, 4]], dtype=complex)\n",
    "sample_array_3"
   ]
  },
  {
   "cell_type": "markdown",
   "metadata": {},
   "source": [
    "### Operaciones Basicas"
   ]
  },
  {
   "cell_type": "markdown",
   "metadata": {},
   "source": [
    "#### Suma y resta"
   ]
  },
  {
   "cell_type": "code",
   "execution_count": 96,
   "metadata": {},
   "outputs": [
    {
     "data": {
      "text/plain": [
       "array([20, 29, 38, 47])"
      ]
     },
     "execution_count": 96,
     "metadata": {},
     "output_type": "execute_result"
    }
   ],
   "source": [
    "a = np.array([20,30,40,50])\n",
    "b = np.arange(4)\n",
    "c = a - b\n",
    "c"
   ]
  },
  {
   "cell_type": "markdown",
   "metadata": {},
   "source": [
    "#### Multiplicacion"
   ]
  },
  {
   "cell_type": "code",
   "execution_count": 97,
   "metadata": {},
   "outputs": [],
   "source": [
    "A = np.array([[1, 1], \n",
    "              [0, 1]])\n",
    "\n",
    "B = np.array([[2, 0],\n",
    "              [3, 4]])"
   ]
  },
  {
   "cell_type": "markdown",
   "metadata": {},
   "source": [
    "##### *Multiplicacion de los elementos*"
   ]
  },
  {
   "cell_type": "code",
   "execution_count": 98,
   "metadata": {},
   "outputs": [
    {
     "data": {
      "text/plain": [
       "array([[2, 0],\n",
       "       [0, 4]])"
      ]
     },
     "execution_count": 98,
     "metadata": {},
     "output_type": "execute_result"
    }
   ],
   "source": [
    "A * B"
   ]
  },
  {
   "cell_type": "markdown",
   "metadata": {},
   "source": [
    "##### *Producto Matricial*"
   ]
  },
  {
   "cell_type": "code",
   "execution_count": 99,
   "metadata": {},
   "outputs": [
    {
     "data": {
      "text/plain": [
       "array([[5, 4],\n",
       "       [3, 4]])"
      ]
     },
     "execution_count": 99,
     "metadata": {},
     "output_type": "execute_result"
    }
   ],
   "source": [
    "A @ B\n",
    "# o de esta forma:\n",
    "A.dot(B)"
   ]
  },
  {
   "cell_type": "markdown",
   "metadata": {},
   "source": [
    "#### Array de numeros aleatorios"
   ]
  },
  {
   "cell_type": "code",
   "execution_count": 100,
   "metadata": {},
   "outputs": [],
   "source": [
    "# creacion de un generador de numeros aleatorios\n",
    "rg = np.random.default_rng(1) \n",
    "\n",
    "a1 = np.ones((2, 3), dtype= int)\n",
    "b1= rg.random((2,3))\n",
    "\n"
   ]
  },
  {
   "cell_type": "markdown",
   "metadata": {},
   "source": [
    "#### Suma/Resta con los operador +=, -="
   ]
  },
  {
   "cell_type": "code",
   "execution_count": 101,
   "metadata": {},
   "outputs": [
    {
     "data": {
      "text/plain": [
       "array([[-0.48817838, -0.0495363 , -0.85584039],\n",
       "       [-0.05135055, -0.68816855, -0.57667355]])"
      ]
     },
     "execution_count": 101,
     "metadata": {},
     "output_type": "execute_result"
    }
   ],
   "source": [
    "# suma con los operador +=\n",
    "b1 -= a1\n",
    "b1"
   ]
  },
  {
   "cell_type": "markdown",
   "metadata": {},
   "source": [
    "#### sum(), max(), min(), floor(), sort()"
   ]
  },
  {
   "cell_type": "code",
   "execution_count": 102,
   "metadata": {},
   "outputs": [
    {
     "data": {
      "text/plain": [
       "array([[8., 4., 5.],\n",
       "       [0., 7., 5.],\n",
       "       [3., 7., 3.]])"
      ]
     },
     "execution_count": 102,
     "metadata": {},
     "output_type": "execute_result"
    }
   ],
   "source": [
    "# floor redondea hacia abajo\n",
    "sample_array_5 = np.floor(10 * rg.random((3,3)))\n",
    "sample_array_5"
   ]
  },
  {
   "cell_type": "code",
   "execution_count": 103,
   "metadata": {},
   "outputs": [
    {
     "data": {
      "text/plain": [
       "(42.0, array([11., 18., 13.]), array([17., 12., 13.]))"
      ]
     },
     "execution_count": 103,
     "metadata": {},
     "output_type": "execute_result"
    }
   ],
   "source": [
    "# sum() suma todos los elementos del array\n",
    "a = sample_array_5.sum()\n",
    "# suma de cada columna\n",
    "b = sample_array_5.sum(axis=0)\n",
    "# suma de cada fila\n",
    "c = sample_array_5.sum(axis=1)\n",
    "(a, b, c)"
   ]
  },
  {
   "cell_type": "code",
   "execution_count": 104,
   "metadata": {},
   "outputs": [
    {
     "name": "stdout",
     "output_type": "stream",
     "text": [
      "min:  0.0\n",
      "max:  8.0\n"
     ]
    }
   ],
   "source": [
    "# min() y max()\n",
    "print(\"min: \", sample_array_5.min())\n",
    "print(\"max: \", sample_array_5.max())"
   ]
  },
  {
   "cell_type": "code",
   "execution_count": 105,
   "metadata": {},
   "outputs": [
    {
     "name": "stdout",
     "output_type": "stream",
     "text": [
      "[[8. 4. 5.]\n",
      " [0. 7. 5.]\n",
      " [3. 7. 3.]] \n",
      "\n",
      "Ordenar por fila\n",
      "[[4. 5. 8.]\n",
      " [0. 5. 7.]\n",
      " [3. 3. 7.]] \n",
      "\n",
      "Ordenar por columnas\n",
      "[[0. 4. 3.]\n",
      " [3. 7. 5.]\n",
      " [8. 7. 5.]] \n",
      "\n",
      "[[4. 5. 8.]\n",
      " [0. 5. 7.]\n",
      " [3. 3. 7.]]\n"
     ]
    }
   ],
   "source": [
    "# Sort()\n",
    "print(sample_array_5, \"\\n\") # No sort array\n",
    "print(\"Ordenar por fila\")\n",
    "print((np.sort(sample_array_5)),\"\\n\") # sort array filas\n",
    "print(\"Ordenar por columnas\")\n",
    "print((np.sort(sample_array_5, axis=0)), \"\\n\") # sort array columnas\n",
    "# axis=0 columnas, axis=1  filas\n",
    "# se puede especificar el algoritmo de ordenamiento.\n",
    "print((np.sort(sample_array_5,kind=\"mergesort\")))"
   ]
  },
  {
   "cell_type": "markdown",
   "metadata": {},
   "source": [
    "#### *numpy.fromfunction()*"
   ]
  },
  {
   "cell_type": "code",
   "execution_count": 106,
   "metadata": {},
   "outputs": [
    {
     "data": {
      "text/plain": [
       "array([[ 0.,  1.,  2.,  3.],\n",
       "       [10., 11., 12., 13.],\n",
       "       [20., 21., 22., 23.],\n",
       "       [30., 31., 32., 33.]])"
      ]
     },
     "execution_count": 106,
     "metadata": {},
     "output_type": "execute_result"
    }
   ],
   "source": [
    "# aplica una funcion al array que se genera a partir \n",
    "# de las coordenadas de la dimension del array \n",
    "# f(x,y) se aplica sobre las coordenadas x,y \n",
    "# elemento a23 --> f(x,y)= x+y --> f(2,3) = 2+3 = 5\n",
    "array_from_f = np.fromfunction(lambda i, j: 10*i + j, (4,4), dtype=float)\n",
    "array_from_f"
   ]
  },
  {
   "cell_type": "markdown",
   "metadata": {},
   "source": [
    "### Matriz Transpuesta ***sample_array.T***"
   ]
  },
  {
   "cell_type": "code",
   "execution_count": 107,
   "metadata": {},
   "outputs": [
    {
     "data": {
      "text/plain": [
       "array([[ 0., 10., 20., 30.],\n",
       "       [ 1., 11., 21., 31.],\n",
       "       [ 2., 12., 22., 32.],\n",
       "       [ 3., 13., 23., 33.]])"
      ]
     },
     "execution_count": 107,
     "metadata": {},
     "output_type": "execute_result"
    }
   ],
   "source": [
    "array_from_f.T"
   ]
  },
  {
   "cell_type": "markdown",
   "metadata": {},
   "source": [
    "### Aplanar un array ***sample_array.ravel()***"
   ]
  },
  {
   "cell_type": "code",
   "execution_count": 108,
   "metadata": {},
   "outputs": [
    {
     "name": "stdout",
     "output_type": "stream",
     "text": [
      "[[4. 1. 4.]\n",
      " [2. 2. 7.]\n",
      " [2. 4. 9.]] \n",
      "\n",
      "[4. 1. 4. 2. 2. 7. 2. 4. 9.]\n"
     ]
    }
   ],
   "source": [
    "# .ravel() retorna una version Plana (1 eje 1D) de un array de 2 ejes o mas ejes\n",
    "sample_array_7 = np.floor(10*rg.random((3,3)))\n",
    "print(sample_array_7, \"\\n\")\n",
    "print(sample_array_7.ravel())"
   ]
  },
  {
   "cell_type": "markdown",
   "metadata": {},
   "source": [
    "### reshape() resize() *fijar/cambiar la dimension de un array*"
   ]
  },
  {
   "cell_type": "code",
   "execution_count": 109,
   "metadata": {},
   "outputs": [
    {
     "data": {
      "text/plain": [
       "array([0, 1, 2, 3, 4, 5])"
      ]
     },
     "execution_count": 109,
     "metadata": {},
     "output_type": "execute_result"
    }
   ],
   "source": [
    "sample_array_4 = np.arange(6)\n",
    "sample_array_4"
   ]
  },
  {
   "cell_type": "code",
   "execution_count": 110,
   "metadata": {},
   "outputs": [
    {
     "name": "stdout",
     "output_type": "stream",
     "text": [
      "original\n",
      " [0 1 2 3 4 5]\n",
      "reshape\n",
      " [[0 1]\n",
      " [2 3]\n",
      " [4 5]]\n",
      "original\n",
      " [0 1 2 3 4 5]\n",
      "resize\n",
      " [[0 1]\n",
      " [2 3]\n",
      " [4 5]]\n"
     ]
    }
   ],
   "source": [
    "sample_array_4 = np.arange(6)\n",
    "print(\"original\\n\", sample_array_4)\n",
    "# reshape retorna una matriz modificada, no cambia la matrix original\n",
    "reshape_array = sample_array_4.reshape((3,2))\n",
    "print(\"reshape\\n\", reshape_array)\n",
    "print(\"original\\n\", sample_array_4)\n",
    "# resize retorna None, la matriz se modifica\n",
    "sample_array_4.resize((3,2))\n",
    "print(\"resize\\n\", sample_array_4)\n"
   ]
  },
  {
   "cell_type": "markdown",
   "metadata": {},
   "source": [
    "### Array diagonal ***numpy.eye()***"
   ]
  },
  {
   "cell_type": "markdown",
   "metadata": {},
   "source": [
    "eye() retorna una matriz 2D con los elementos de la diagonal iguales a 1 y el reto igual a cero."
   ]
  },
  {
   "cell_type": "code",
   "execution_count": 111,
   "metadata": {},
   "outputs": [
    {
     "data": {
      "text/plain": [
       "array([[1., 0., 0., 0.],\n",
       "       [0., 1., 0., 0.],\n",
       "       [0., 0., 1., 0.],\n",
       "       [0., 0., 0., 1.]])"
      ]
     },
     "execution_count": 111,
     "metadata": {},
     "output_type": "execute_result"
    }
   ],
   "source": [
    "eye_array = np.eye(4)\n",
    "eye_array"
   ]
  },
  {
   "cell_type": "code",
   "execution_count": 112,
   "metadata": {},
   "outputs": [
    {
     "data": {
      "text/plain": [
       "array([[0., 1., 0., 0.],\n",
       "       [0., 0., 1., 0.],\n",
       "       [0., 0., 0., 1.],\n",
       "       [0., 0., 0., 0.]])"
      ]
     },
     "execution_count": 112,
     "metadata": {},
     "output_type": "execute_result"
    }
   ],
   "source": [
    "# se puede cambiar a una diagonal superior o \n",
    "# inferior con el parametro k\n",
    "# k = 0 diagonal central\n",
    "# k > 0 diagonales superiores\n",
    "# k < 0 diagonales inferiores\n",
    "\n",
    "eye_array = np.eye(4, k=1)\n",
    "eye_array"
   ]
  },
  {
   "cell_type": "code",
   "execution_count": 113,
   "metadata": {},
   "outputs": [
    {
     "data": {
      "text/plain": [
       "array([[0., 0., 0., 0.],\n",
       "       [1., 0., 0., 0.],\n",
       "       [0., 1., 0., 0.],\n",
       "       [0., 0., 1., 0.]])"
      ]
     },
     "execution_count": 113,
     "metadata": {},
     "output_type": "execute_result"
    }
   ],
   "source": [
    "eye_array = np.eye(4, k=-1)\n",
    "eye_array"
   ]
  },
  {
   "cell_type": "markdown",
   "metadata": {},
   "source": [
    "### Seleccionar, Fitrar y cambiar elementos"
   ]
  },
  {
   "cell_type": "code",
   "execution_count": 114,
   "metadata": {},
   "outputs": [
    {
     "data": {
      "text/plain": [
       "array([[ 1,  2,  5],\n",
       "       [ 7,  1, -3],\n",
       "       [ 9,  0,  2]])"
      ]
     },
     "execution_count": 114,
     "metadata": {},
     "output_type": "execute_result"
    }
   ],
   "source": [
    "sample_array_6 = np.array([1, 2, 5, 7, 1, -3, 9, 0, 2]).reshape(3,3)\n",
    "sample_array_6"
   ]
  },
  {
   "cell_type": "markdown",
   "metadata": {},
   "source": [
    "#### filtra y cambiar elementos"
   ]
  },
  {
   "cell_type": "code",
   "execution_count": 115,
   "metadata": {},
   "outputs": [],
   "source": [
    "sample_array_6[sample_array_6 == 2] = 13\n",
    "sample_array_6[sample_array_6 <= 1] = 0"
   ]
  },
  {
   "cell_type": "markdown",
   "metadata": {},
   "source": [
    "#### selección"
   ]
  },
  {
   "cell_type": "code",
   "execution_count": 116,
   "metadata": {},
   "outputs": [
    {
     "data": {
      "text/plain": [
       "array([[ 0, 13,  5],\n",
       "       [ 7,  0,  0],\n",
       "       [ 9,  0, 13]])"
      ]
     },
     "execution_count": 116,
     "metadata": {},
     "output_type": "execute_result"
    }
   ],
   "source": [
    "sample_array_6"
   ]
  },
  {
   "cell_type": "code",
   "execution_count": 117,
   "metadata": {},
   "outputs": [
    {
     "data": {
      "text/plain": [
       "array([[ 7,  0,  0],\n",
       "       [ 9,  0, 13]])"
      ]
     },
     "execution_count": 117,
     "metadata": {},
     "output_type": "execute_result"
    }
   ],
   "source": [
    "# selecion de los elementos a partir de la fila 1\n",
    "sample_array_6[1:] "
   ]
  },
  {
   "cell_type": "code",
   "execution_count": 118,
   "metadata": {},
   "outputs": [
    {
     "data": {
      "text/plain": [
       "array([ 5,  0, 13])"
      ]
     },
     "execution_count": 118,
     "metadata": {},
     "output_type": "execute_result"
    }
   ],
   "source": [
    "sample_array_6[:,2] # selecion de los elemetos a partir de la columna 2"
   ]
  },
  {
   "cell_type": "markdown",
   "metadata": {},
   "source": [
    "### Apilamiento de arrays"
   ]
  },
  {
   "cell_type": "code",
   "execution_count": 119,
   "metadata": {},
   "outputs": [
    {
     "name": "stdout",
     "output_type": "stream",
     "text": [
      "[[9. 7.]\n",
      " [5. 2.]] \n",
      "\n",
      "[[1. 9.]\n",
      " [5. 1.]] \n",
      "\n",
      "[[9. 7.]\n",
      " [5. 2.]\n",
      " [1. 9.]\n",
      " [5. 1.]] \n",
      "\n",
      "[[9. 7. 1. 9.]\n",
      " [5. 2. 5. 1.]] \n",
      "\n"
     ]
    }
   ],
   "source": [
    "a = np.floor(10 *rg.random((2,2)))\n",
    "b = np.floor(10 *rg.random((2,2)))\n",
    "print(a, \"\\n\")\n",
    "print(b, \"\\n\")\n",
    "\n",
    "# apilamiento vertical\n",
    "print(np.vstack((a, b)), \"\\n\")\n",
    "\n",
    "# apilamiento horizontal\n",
    "print(np.hstack((a,b)),\"\\n\")"
   ]
  },
  {
   "cell_type": "markdown",
   "metadata": {},
   "source": [
    "#### Incrementar la dimension de un array ***newaxis*** "
   ]
  },
  {
   "cell_type": "code",
   "execution_count": 120,
   "metadata": {},
   "outputs": [
    {
     "name": "stdout",
     "output_type": "stream",
     "text": [
      "1 [0 1 2]\n",
      "2 [[0 1 2]]\n"
     ]
    }
   ],
   "source": [
    "from numpy import newaxis\n",
    "a = np.arange(3)\n",
    "print(a.ndim, a)\n",
    "print( a[newaxis,:].ndim, a[newaxis,:])"
   ]
  },
  {
   "cell_type": "markdown",
   "metadata": {},
   "source": [
    "#### Copiar arrays"
   ]
  },
  {
   "cell_type": "code",
   "execution_count": 121,
   "metadata": {},
   "outputs": [
    {
     "name": "stdout",
     "output_type": "stream",
     "text": [
      "[[6. 7. 6.]\n",
      " [9. 0. 5.]\n",
      " [4. 0. 6.]]\n",
      "a is b True\n",
      "id(a):  146802128 id(b):  146802128\n",
      "a is c  False\n",
      "id(a):  146802128 id(c):  146801456\n",
      "a\n",
      " [[-7. -7. -7.]\n",
      " [ 9.  0.  5.]\n",
      " [ 4.  0.  6.]]\n",
      "c\n",
      " [[-7. -7. -7.]\n",
      " [ 9.  0.  5.]\n",
      " [ 4.  0.  6.]]\n",
      "False\n",
      "id(a):  146802128 id(d):  139611472\n",
      "[[-7. -7. -7.]\n",
      " [ 9.  0.  5.]\n",
      " [ 4.  0.  6.]]\n"
     ]
    }
   ],
   "source": [
    "a = np.floor(10 * rg.random((3,3)))\n",
    "b = a # a y b son el mismo objeto, tienen el mismo identificador\n",
    "print(a)\n",
    "print(\"a is b\", a is b)\n",
    "print(\"id(a): \", id(a), \"id(b): \",id(b))\n",
    "\n",
    "# copiar con view\n",
    "\n",
    "# a y c tienen la misma data pero son arrays diferentes\n",
    "# cambios en el array original afectan el array view\n",
    "c = a.view() \n",
    "print(\"a is c \", a is c) \n",
    "print(\"id(a): \", id(a), \"id(c): \",id(c))\n",
    "\n",
    "a[0]= -7\n",
    "print(\"a\\n\", a)\n",
    "print(\"c\\n\", c)\n",
    "\n",
    "# copiar con copy\n",
    "# retorna un array diferente el cual no se ve afectado por cambios\n",
    "# al array original\n",
    "d =a.copy()\n",
    "print(a is d) \n",
    "print(\"id(a): \", id(a), \"id(d): \",id(d))\n",
    "print(d)"
   ]
  }
 ],
 "metadata": {
  "kernelspec": {
   "display_name": "Python 3.8.7 64-bit",
   "language": "python",
   "name": "python3"
  },
  "language_info": {
   "codemirror_mode": {
    "name": "ipython",
    "version": 3
   },
   "file_extension": ".py",
   "mimetype": "text/x-python",
   "name": "python",
   "nbconvert_exporter": "python",
   "pygments_lexer": "ipython3",
   "version": "3.8.7"
  },
  "orig_nbformat": 4,
  "vscode": {
   "interpreter": {
    "hash": "78f551956465f27d377602a8bc30b2059c302125734c844a71d48236d22f28da"
   }
  }
 },
 "nbformat": 4,
 "nbformat_minor": 2
}
